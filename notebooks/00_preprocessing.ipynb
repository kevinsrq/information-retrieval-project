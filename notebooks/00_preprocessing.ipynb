{
 "cells": [
  {
   "attachments": {},
   "cell_type": "markdown",
   "metadata": {},
   "source": [
    "# Pré-Processamento dos Documentos\n",
    "\n",
    "A limpeza dos dados é um processo essencial para garantir a qualidade e a confiabilidade das informações armazenadas em um banco de dados. A limpeza dos dados envolve a identificação e a correção de erros, inconsistências, duplicidades e valores ausentes nos dados. A arquitetura do armazenamento é a forma como os dados são organizados, estruturados e acessados em um banco de dados. Uma das opções de arquitetura é o formato YAML, que significa YAML Ain't Markup Language. O YAML é um formato de serialização de dados que usa uma sintaxe simples e legível para representar estruturas de dados como listas, mapas, sequências e escalares. O YAML é compatível com diversas linguagens de programação e pode ser usado para armazenar dados de forma hierárquica e flexível.\n",
    "\n",
    "<!-- <hr style=\"border-width: 1px\" width=\"95%\" > -->"
   ]
  },
  {
   "cell_type": "code",
   "execution_count": 5,
   "metadata": {},
   "outputs": [],
   "source": [
    "import pandas as pd\n",
    "import numpy as np\n",
    "import yaml \n",
    "import os\n",
    "import gc"
   ]
  },
  {
   "attachments": {},
   "cell_type": "markdown",
   "metadata": {},
   "source": [
    "## Estruturação dos Arquivos"
   ]
  },
  {
   "cell_type": "code",
   "execution_count": 7,
   "metadata": {},
   "outputs": [
    {
     "data": {
      "text/plain": [
       "0"
      ]
     },
     "execution_count": 7,
     "metadata": {},
     "output_type": "execute_result"
    }
   ],
   "source": [
    "# Set the directory path to where the data is stored\n",
    "doc_dir = '../data/emails/mini_newsgroups/'\n",
    "\n",
    "# Create an empty list to hold the processed data\n",
    "database = []\n",
    "\n",
    "# Iterate over each file in the directory and its subdirectories\n",
    "for filepath in os.listdir(doc_dir): \n",
    "    for filename in os.listdir(f'{doc_dir}{filepath}'):\n",
    "\n",
    "        # Open each file individually and read its contents\n",
    "        with open(os.path.join(doc_dir, filepath, filename), 'r') as f:\n",
    "            text_data = f.read().strip()\n",
    "        \n",
    "        # Split the header and body of the email\n",
    "        try:\n",
    "            header, body = text_data.split('\\n\\n', maxsplit=1)\n",
    "        except:\n",
    "            continue\n",
    "        \n",
    "        # Convert header to a dictionary\n",
    "        header_dict = {}\n",
    "        for line in header.split('\\n'):\n",
    "            try:\n",
    "                # Split the key and value in each header field and store them in a dictionary\n",
    "                key, value = line.strip().split(': ', maxsplit=1)\n",
    "                header_dict[key] = value\n",
    "            except:\n",
    "                # If a header field cannot be split properly, skip it and continue\n",
    "                continue\n",
    "        \n",
    "        # Append the processed data to the list\n",
    "        database.append({'filepath': filepath, \n",
    "                        'filename': filename,\n",
    "                        'text': body, \n",
    "                        **header_dict\n",
    "                        })\n",
    "\n",
    "# tranformation from dict -> dataframe\n",
    "base_inicial = pd.DataFrame(database)\n",
    "\n",
    "# remove database from memory\n",
    "del database\n",
    "gc.collect()"
   ]
  },
  {
   "cell_type": "code",
   "execution_count": null,
   "metadata": {},
   "outputs": [],
   "source": []
  }
 ],
 "metadata": {
  "kernelspec": {
   "display_name": "Python 3",
   "language": "python",
   "name": "python3"
  },
  "language_info": {
   "codemirror_mode": {
    "name": "ipython",
    "version": 3
   },
   "file_extension": ".py",
   "mimetype": "text/x-python",
   "name": "python",
   "nbconvert_exporter": "python",
   "pygments_lexer": "ipython3",
   "version": "3.11.1"
  },
  "orig_nbformat": 4
 },
 "nbformat": 4,
 "nbformat_minor": 2
}
