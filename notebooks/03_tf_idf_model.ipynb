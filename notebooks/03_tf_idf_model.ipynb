{
 "cells": [
  {
   "attachments": {},
   "cell_type": "markdown",
   "metadata": {},
   "source": [
    "# Modelo Vetorial para Recuperação da Informação\n",
    "\n",
    "O modelo vetorial é um dos métodos mais utilizados para recuperação de informação, que consiste em representar documentos e consultas como vetores em um espaço multidimensional. Cada dimensão corresponde a um termo do vocabulário da coleção de documentos, e o peso de cada termo é calculado com base na sua frequência e relevância. A recuperação de informação é feita comparando a similaridade entre os vetores de documentos e consultas, usando medidas como o produto escalar ou o cosseno do ângulo entre eles. O modelo vetorial permite recuperar documentos que satisfaçam parcialmente a consulta, definindo um limiar de similaridade mínimo aceitável.\n",
    "\n",
    "<!-- <hr style=\"border-width: 1px\" width=\"95%\" > -->\n",
    "<div></div> "
   ]
  },
  {
   "cell_type": "code",
   "execution_count": null,
   "metadata": {},
   "outputs": [],
   "source": [
    "# Importa os módulos necessários\n",
    "import numpy as np   # Módulo para trabalhar com matrizes e funções matemáticas\n",
    "import pandas as pd  # Módulo para trabalhar com dataframes e séries em Python\n",
    "import os\n",
    "\n",
    "from sklearn.feature_extraction.text import CountVectorizer\n",
    "from sklearn.metrics.pairwise import cosine_similarity"
   ]
  },
  {
   "attachments": {},
   "cell_type": "markdown",
   "metadata": {},
   "source": [
    "- Carregue os documentos em uma lista, onde cada documento é uma string.\n",
    "- Instancie o objeto CountVectorizer para transformar o texto em uma matriz de termos.\n",
    "- Ajuste e transforme a matriz de termos usando os dados do conjunto de documentos."
   ]
  },
  {
   "attachments": {},
   "cell_type": "markdown",
   "metadata": {},
   "source": [
    "## Calcule a similaridade entre as consultas e os documentos:\n",
    "- Transforme a consulta em uma matriz de termos.\n",
    "- Calcule a similaridade entre a matriz de termos da consulta e a matriz de termos dos documentos usando a função cosine_similarity."
   ]
  },
  {
   "cell_type": "code",
   "execution_count": null,
   "metadata": {},
   "outputs": [],
   "source": [
    "# Instancie o objeto CountVectorizer\n",
    "vectorizer = CountVectorizer()\n",
    "\n",
    "# Transforme os documentos em uma matriz de termos\n",
    "term_matrix = vectorizer.fit_transform(database)\n"
   ]
  },
  {
   "cell_type": "code",
   "execution_count": null,
   "metadata": {},
   "outputs": [],
   "source": [
    "query = \"graphics\"\n",
    "\n",
    "# Transforme a consulta em uma matriz de termos\n",
    "query_vec = vectorizer.transform([query])\n",
    "\n",
    "# Calcule a similaridade entre a consulta e os documentos\n",
    "similarity_scores = cosine_similarity(query_vec, term_matrix)\n"
   ]
  },
  {
   "attachments": {},
   "cell_type": "markdown",
   "metadata": {},
   "source": [
    "## Recupere os documentos mais relevantes:\n",
    "- Classifique os documentos com base em suas pontuações de similaridade.\n",
    "- Recupere os documentos mais relevantes."
   ]
  },
  {
   "cell_type": "code",
   "execution_count": null,
   "metadata": {},
   "outputs": [],
   "source": [
    "# Classifique os documentos com base em suas pontuações de similaridade\n",
    "ranked_docs = sorted(\n",
    "    list(enumerate(similarity_scores[0])),\n",
    "    key=lambda x: x[1],\n",
    "    reverse=True\n",
    ")\n",
    "\n",
    "# Recupere os documentos mais relevantes\n",
    "for i, score in ranked_docs:\n",
    "    print(docs[i], \" - Score:\", score)\n"
   ]
  }
 ],
 "metadata": {
  "kernelspec": {
   "display_name": "Python 3",
   "language": "python",
   "name": "python3"
  },
  "language_info": {
   "codemirror_mode": {
    "name": "ipython",
    "version": 3
   },
   "file_extension": ".py",
   "mimetype": "text/x-python",
   "name": "python",
   "nbconvert_exporter": "python",
   "pygments_lexer": "ipython3",
   "version": "3.11.1"
  },
  "orig_nbformat": 4
 },
 "nbformat": 4,
 "nbformat_minor": 2
}
